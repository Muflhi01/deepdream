{
 "cells": [
  {
   "cell_type": "code",
   "execution_count": 31,
   "metadata": {},
   "outputs": [
    {
     "data": {
      "text/html": [
       "<style>.container { width:100% !important; }</style>"
      ],
      "text/plain": [
       "<IPython.core.display.HTML object>"
      ]
     },
     "metadata": {},
     "output_type": "display_data"
    },
    {
     "name": "stdout",
     "output_type": "stream",
     "text": [
      "Number of layers 59\n",
      "Total number of feature channels: 7548\n"
     ]
    }
   ],
   "source": [
    "from IPython.core.display import display, HTML\n",
    "display(HTML(\"<style>.container { width:100% !important; }</style>\"))\n",
    "\n",
    "from __future__ import print_function\n",
    "import math\n",
    "import time\n",
    "import copy\n",
    "import json\n",
    "import os\n",
    "from os import listdir\n",
    "from os.path import isfile, join\n",
    "from random import random\n",
    "from io import BytesIO\n",
    "from enum import Enum\n",
    "from functools import partial\n",
    "import PIL.Image\n",
    "from IPython.display import clear_output, Image, display, HTML\n",
    "import numpy as np\n",
    "import scipy.misc\n",
    "import cv2\n",
    "import tensorflow as tf\n",
    "\n",
    "# reloading external code so notebook updates properly\n",
    "#from importlib import reload\n",
    "import lapnorm, canvas, mask, util, bookmarks, generate\n",
    "reload(lapnorm)\n",
    "reload(canvas)\n",
    "reload(mask)\n",
    "reload(util)\n",
    "reload(bookmarks)\n",
    "reload(generate)\n",
    "from lapnorm import *\n",
    "from canvas import *\n",
    "from mask import *\n",
    "from util import *\n",
    "from bookmarks import *\n",
    "from generate import *\n"
   ]
  },
  {
   "cell_type": "code",
   "execution_count": 32,
   "metadata": {
    "scrolled": true
   },
   "outputs": [
    {
     "name": "stdout",
     "output_type": "stream",
     "text": [
      "SAVE! results/arcs4/0999/f0470.png\n"
     ]
    }
   ],
   "source": [
    "#mask = {'type':'arcs', 'h':h, 'w':w, 'n':nc, 'period':nf, 'ctr_y':0.5, 'ctr_x':0.5, 'radius':0.70710678118, 'blend':0.1, 'inwards':False, 'reverse':False, 'crop':Crop.CIRCLE_SHIFT}\n",
    "#mask = {'type':'image', 'n':len(ch), 'thresholds':[25,80,140,256], 'blur_k':5, 'n_dilations':3, 'blend':0.0, 'crop':0, 'path':'media/monalisa.jpg', 'normalize':True}\n",
    "#mask = {'type':'rects', 'period':5, 'p1':(0.5,0.0), 'p2':(0.5,1.0), 'width':2.0, 'n':len(ch), 'blend':0.31, 'reverse':False, 'crop':Crop.NONE}\n",
    "#mask = {'type':'rects', 'period':1e8, 'p1':(0.5001,0.0), 'p2':(0.5,1.0), 'width':2.0, 'n':len(ch), 'blend':0.3, 'reverse':False, 'crop':Crop.NONE}\n",
    "#mask = {'type':'movie', 'h':h, 'w':w, 'n':3, 'thresholds':[50,100,238], 'blur_k':8, 'n_dilations':10, 'blend':0.1, 'crop':Crop.NONE, 'path':'/home/gene/projects/lapnorm/belgrade', 'idx1':0, 'idx2':175}\n",
    "#mask = {'type':'interpolation', 'n':len(ch), 'period':5, 'ctr_y':0.5, 'ctr_x':0.5, 'blend':0.25, 'cross_fade':True, 'reverse':False, 'crop':Crop.CIRCLE_NOSHIFT}\n",
    "\n",
    "    \n",
    "\n",
    "config1 = '/home/gene/lapnorm/results/arcs4/0001/config.json'\n",
    "config2 = '/home/gene/lapnorm/results/arcs4/0004/config.json'\n",
    "\n",
    "merge(config1, config2, 20)\n"
   ]
  },
  {
   "cell_type": "code",
   "execution_count": 93,
   "metadata": {},
   "outputs": [
    {
     "name": "stdout",
     "output_type": "stream",
     "text": [
      "[{'mask': {'type': 'solid', 'canvas': {'noise_margin': [2.0, 2.0], 'expand': 0.01, 'stretch': [1.0, 1.0], 'spiral_periods': 0.0, 'shift': [0.0, 0.0], 'rot_const': 0.01, 'noise_rate': [7.2, 5.1], 'verge': [0.0, 0.0], 'rot_ang': 0.0, 'spiral_margin': 0.0, 'rot_dst': -0.0001, 'zoom': 1.0, 'center': [0.5, 0.5]}, 'normalize': True}, 'time': [0, 5], 'canvas': {'noise_margin': [2.0, 2.0], 'expand': 0.01, 'stretch': [1.0, 1.0], 'spiral_periods': 0.0, 'shift': [0.0, 0.0], 'rot_const': 0.01, 'noise_rate': [7.2, 5.1], 'verge': [0.0, 0.0], 'rot_ang': 0.0, 'spiral_margin': 0.0, 'rot_dst': -0.0001, 'zoom': 1.0, 'center': [0.5, 0.5]}, 'channels': [{'layer': 'F3', 'channel': 187}], 'fade_in': [0, 0], 'mask_constant': True, 'fade_out': [5, 5]}]\n",
      "{'w': 720, 'lap_n': 16, 'brightMult': 0.7, 'step': 1.0, 'iter_n': 10, 'h': 480, 'oct_n': 2, 'matchHist': True, 'oct_s': 1.317}\n",
      "{'index': 2, 'name': 'test_series', 'save_all': True, 'save_last': True, 'num_loop_frames': 0}\n"
     ]
    }
   ],
   "source": [
    "        \n",
    "\n",
    "channels = get_random_favorites(layers_m4, 5)\n",
    "\n",
    "output = {'name':'interps', 'save_all':True, 'save_last':True, 'num_loop_frames':0}\n",
    "attributes = {'h':720, 'w':1280, 'iter_n':10, 'step':1.0, 'oct_n':3, 'oct_s':1.7197235, 'lap_n':16, 'matchHist':True, 'brightMult':1.0}\n",
    "\n",
    "canvas = {'shift':(0.0, 0.00), 'stretch':(1.0, 1.0), \n",
    "          'center':(0.5, 0.5), 'zoom':1.0, 'expand':0.0, 'rot_const':0.00, 'rot_ang':0.0, 'rot_dst':0.0, \n",
    "          'spiral_margin':0.0, 'spiral_periods':0.0, \n",
    "          'noise_rate':(0,0), 'noise_margin':(0,0)}\n",
    "\n",
    "mask = {'type':'interpolation', 'n':len(channels), 'period':10, 'ctr_y':0.5, 'ctr_x':0.5, 'blend':0.9, 'cross_fade':True, 'reverse':False, 'normalize':True}\n",
    "\n",
    "sequence = Sequence(attributes)\n",
    "sequence.append(channels, mask, canvas, 5*10, 0)\n",
    "sequence.loop_to_beginning(output['num_loop_frames'])\n",
    "\n",
    "#sequence.add_injection(\"media/faceapp.png\", 0, 30, 0.5)\n",
    "\n",
    "\n",
    "#view_mask(sequence, attributes, output, draw_rgb=False)\n",
    "#view_canvas(canvas, attributes['h'], attributes['w'], 30)\n",
    "#generate(sequence, attributes, output, start_from=0, preview=False)\n",
    "#showarray(img/255.)\n",
    "\n",
    "\n",
    "#sequence, attributes, output = load_config(\"/home/gene/lapnorm/results_old/test_8/F2-41+C2-0+C3-179+B2-44+C1-106_n11_o02_r1.39/_data.json\")\n"
   ]
  }
 ],
 "metadata": {
  "kernelspec": {
   "display_name": "Python 2",
   "language": "python",
   "name": "python2"
  },
  "language_info": {
   "codemirror_mode": {
    "name": "ipython",
    "version": 2
   },
   "file_extension": ".py",
   "mimetype": "text/x-python",
   "name": "python",
   "nbconvert_exporter": "python",
   "pygments_lexer": "ipython2",
   "version": "2.7.12"
  }
 },
 "nbformat": 4,
 "nbformat_minor": 1
}
